{
 "cells": [
  {
   "cell_type": "code",
   "execution_count": null,
   "id": "f9bc5690",
   "metadata": {},
   "outputs": [],
   "source": [
    "# HTML\n",
    "# 웹페이지의 레이아웃 및 텍스트 데이터를 출력하는 언어\n",
    "# 엘리먼트 > 태그(id, class, attribute) > 텍스트 : 계층적구조\n",
    "# <div> python </div>\n",
    "# 시작 태그 안에는 속성값이 들어있음 : id, class, attribute\n",
    "# id, class : 엘리먼트를 선택하기 위한 용도로 사용되는 속성값\n",
    "# id : 한페이지 내에서 유일하게 사용\n",
    "# class : 여러개의 값을 가질수 있음\n",
    "# attribute : 정보를 저장하기 위한 속성값"
   ]
  },
  {
   "cell_type": "code",
   "execution_count": null,
   "id": "6b6d3c23",
   "metadata": {},
   "outputs": [],
   "source": [
    "# tag 종류\n",
    "# div : 레이아웃\n",
    "# p, span : 문자열\n",
    "# ul, li : 목록\n",
    "# a : 링크 : href\n",
    "# img : 이미지 : src"
   ]
  },
  {
   "cell_type": "code",
   "execution_count": 1,
   "id": "cb75ec82",
   "metadata": {},
   "outputs": [],
   "source": [
    "# css selector\n",
    "# 엘리먼트를 선택하기 위한 문법\n",
    "# <div id='d1' class='data no1' value='1'>data1</div>\n",
    "# <p id='d2' class='data no2'>data2</p>\n",
    "# tag : p : data2 엘리먼트 선택\n",
    "# id  : #d1 : data1 엘리먼트 선택\n",
    "# class : .data : data1, data2 엘리먼트 선택\n",
    "# class : .no1, .no2 : data1, data2 엘리먼트 선택\n",
    "# attribute : [value='1'] : data1 엘리먼트 선택"
   ]
  },
  {
   "cell_type": "code",
   "execution_count": null,
   "id": "1c8035be",
   "metadata": {},
   "outputs": [],
   "source": [
    "# n번째 엘리먼트 선택 : nth-child()\n",
    "# <div>\n",
    "#     <p class='d'>data1</p>\n",
    "#     <p class=''>data2</p>\n",
    "#     <span class='d'>data3</span>\n",
    "#     <div class=''> <p>data4</p> </div>\n",
    "# </div>\n",
    "# .d:nth-child(2) : 아무것도 선택 안됨\n",
    "# .d:nth-child(3) : data3 엘리먼트 선택"
   ]
  },
  {
   "cell_type": "code",
   "execution_count": null,
   "id": "509e6932",
   "metadata": {},
   "outputs": [],
   "source": [
    "# 계층적선택\n",
    "# div > p : data1, data2 엘리먼트 선택 : > : 한단계 아래의 엘리먼트 중에서\n",
    "# div p : data1, data2, data4 엘리먼트 선택 : ' ' : 모든 하위 엘리먼트 중에서"
   ]
  },
  {
   "cell_type": "code",
   "execution_count": 3,
   "id": "5a78ba6f",
   "metadata": {},
   "outputs": [],
   "source": [
    "# 네이버 연관 검색어 데이터 수집\n",
    "# - 정적페이지 데이터 수집"
   ]
  },
  {
   "cell_type": "code",
   "execution_count": 10,
   "id": "f238a476",
   "metadata": {},
   "outputs": [],
   "source": [
    "import pandas as pd\n",
    "import requests\n",
    "from bs4 import BeautifulSoup"
   ]
  },
  {
   "cell_type": "code",
   "execution_count": 11,
   "id": "badbed31",
   "metadata": {},
   "outputs": [
    {
     "data": {
      "text/plain": [
       "'https://search.naver.com/search.naver?query=삼성전자'"
      ]
     },
     "execution_count": 11,
     "metadata": {},
     "output_type": "execute_result"
    }
   ],
   "source": [
    "# 1. 웹페이지분석 : 개발자도구 : URL\n",
    "query = '삼성전자'\n",
    "url = f'https://search.naver.com/search.naver?query={query}'\n",
    "url"
   ]
  },
  {
   "cell_type": "code",
   "execution_count": 12,
   "id": "149a6d7f",
   "metadata": {},
   "outputs": [
    {
     "data": {
      "text/plain": [
       "<Response [200]>"
      ]
     },
     "execution_count": 12,
     "metadata": {},
     "output_type": "execute_result"
    }
   ],
   "source": [
    "# 2. Request(URL) > Response(Data) : Data(html)\n",
    "response = requests.get(url)\n",
    "response"
   ]
  },
  {
   "cell_type": "code",
   "execution_count": 16,
   "id": "2731ed65",
   "metadata": {},
   "outputs": [],
   "source": [
    "# response.text[:500]"
   ]
  },
  {
   "cell_type": "code",
   "execution_count": 7,
   "id": "472fbb8f",
   "metadata": {},
   "outputs": [],
   "source": [
    "# 3. html(str) > bs object > .select(css-selector), .select_one(css-selector) > text"
   ]
  },
  {
   "cell_type": "code",
   "execution_count": 14,
   "id": "ac7e3dc3",
   "metadata": {},
   "outputs": [
    {
     "data": {
      "text/plain": [
       "bs4.BeautifulSoup"
      ]
     },
     "execution_count": 14,
     "metadata": {},
     "output_type": "execute_result"
    }
   ],
   "source": [
    "dom = BeautifulSoup(response.text, 'html.parser')\n",
    "type(dom)"
   ]
  },
  {
   "cell_type": "code",
   "execution_count": 15,
   "id": "9a222c10",
   "metadata": {},
   "outputs": [
    {
     "data": {
      "text/plain": [
       "10"
      ]
     },
     "execution_count": 15,
     "metadata": {},
     "output_type": "execute_result"
    }
   ],
   "source": [
    "selector = '#nx_right_related_keywords > div > div.related_srch > ul > li'\n",
    "elements = dom.select(selector)\n",
    "len(elements)"
   ]
  },
  {
   "cell_type": "code",
   "execution_count": 21,
   "id": "ff5c70a1",
   "metadata": {},
   "outputs": [
    {
     "data": {
      "text/plain": [
       "'삼성전자주가'"
      ]
     },
     "execution_count": 21,
     "metadata": {},
     "output_type": "execute_result"
    }
   ],
   "source": [
    "element = elements[0]\n",
    "keyword = element.select_one('.tit').text\n",
    "keyword"
   ]
  },
  {
   "cell_type": "code",
   "execution_count": 22,
   "id": "e65b640c",
   "metadata": {},
   "outputs": [
    {
     "data": {
      "text/plain": [
       "['삼성전자주가',\n",
       " '삼성전자 배당금',\n",
       " '삼성전자주식',\n",
       " '삼성전자서비스',\n",
       " '오늘 삼성전자 주가',\n",
       " '삼성전자 채용',\n",
       " '삼성전자 배당금 지급일',\n",
       " '삼성 전자레인지',\n",
       " '삼성전자몰',\n",
       " '삼성전자 주가 전망']"
      ]
     },
     "execution_count": 22,
     "metadata": {},
     "output_type": "execute_result"
    }
   ],
   "source": [
    "keywords = [element.select_one('.tit').text for element in elements]\n",
    "keywords"
   ]
  },
  {
   "cell_type": "code",
   "execution_count": 23,
   "id": "03aabf5f",
   "metadata": {},
   "outputs": [
    {
     "data": {
      "text/html": [
       "<div>\n",
       "<style scoped>\n",
       "    .dataframe tbody tr th:only-of-type {\n",
       "        vertical-align: middle;\n",
       "    }\n",
       "\n",
       "    .dataframe tbody tr th {\n",
       "        vertical-align: top;\n",
       "    }\n",
       "\n",
       "    .dataframe thead th {\n",
       "        text-align: right;\n",
       "    }\n",
       "</style>\n",
       "<table border=\"1\" class=\"dataframe\">\n",
       "  <thead>\n",
       "    <tr style=\"text-align: right;\">\n",
       "      <th></th>\n",
       "      <th>keyword</th>\n",
       "    </tr>\n",
       "  </thead>\n",
       "  <tbody>\n",
       "    <tr>\n",
       "      <th>0</th>\n",
       "      <td>삼성전자주가</td>\n",
       "    </tr>\n",
       "    <tr>\n",
       "      <th>1</th>\n",
       "      <td>삼성전자 배당금</td>\n",
       "    </tr>\n",
       "    <tr>\n",
       "      <th>2</th>\n",
       "      <td>삼성전자주식</td>\n",
       "    </tr>\n",
       "    <tr>\n",
       "      <th>3</th>\n",
       "      <td>삼성전자서비스</td>\n",
       "    </tr>\n",
       "    <tr>\n",
       "      <th>4</th>\n",
       "      <td>오늘 삼성전자 주가</td>\n",
       "    </tr>\n",
       "    <tr>\n",
       "      <th>5</th>\n",
       "      <td>삼성전자 채용</td>\n",
       "    </tr>\n",
       "    <tr>\n",
       "      <th>6</th>\n",
       "      <td>삼성전자 배당금 지급일</td>\n",
       "    </tr>\n",
       "    <tr>\n",
       "      <th>7</th>\n",
       "      <td>삼성 전자레인지</td>\n",
       "    </tr>\n",
       "    <tr>\n",
       "      <th>8</th>\n",
       "      <td>삼성전자몰</td>\n",
       "    </tr>\n",
       "    <tr>\n",
       "      <th>9</th>\n",
       "      <td>삼성전자 주가 전망</td>\n",
       "    </tr>\n",
       "  </tbody>\n",
       "</table>\n",
       "</div>"
      ],
      "text/plain": [
       "        keyword\n",
       "0        삼성전자주가\n",
       "1      삼성전자 배당금\n",
       "2        삼성전자주식\n",
       "3       삼성전자서비스\n",
       "4    오늘 삼성전자 주가\n",
       "5       삼성전자 채용\n",
       "6  삼성전자 배당금 지급일\n",
       "7      삼성 전자레인지\n",
       "8         삼성전자몰\n",
       "9    삼성전자 주가 전망"
      ]
     },
     "execution_count": 23,
     "metadata": {},
     "output_type": "execute_result"
    }
   ],
   "source": [
    "pd.DataFrame({'keyword': keywords})"
   ]
  },
  {
   "cell_type": "code",
   "execution_count": 24,
   "id": "5f2d4d61",
   "metadata": {},
   "outputs": [],
   "source": [
    "def rkeyword(query):\n",
    "    # 1. url\n",
    "    url = f'https://search.naver.com/search.naver?query={query}'\n",
    "    # 2. request > response : html\n",
    "    response = requests.get(url)\n",
    "    # 3. html > bs object\n",
    "    dom = BeautifulSoup(response.text, 'html.parser')\n",
    "    # 4. bs object > elements\n",
    "    selector = '#nx_right_related_keywords > div > div.related_srch > ul > li'\n",
    "    elements = dom.select(selector)\n",
    "    # 5. elements > keywords\n",
    "    return [element.select_one('.tit').text for element in elements]"
   ]
  },
  {
   "cell_type": "code",
   "execution_count": 25,
   "id": "0410dcfe",
   "metadata": {},
   "outputs": [
    {
     "data": {
      "text/plain": [
       "['lg전자 주가',\n",
       " 'lg전자 서비스센터 전화번호',\n",
       " 'lg전자 베스트샵',\n",
       " 'lg 전자레인지',\n",
       " 'lg전자 고객센터',\n",
       " 'lg전자 as',\n",
       " 'lg전자렌지',\n",
       " 'lg전자 서비스센터 예약',\n",
       " 'lg전자 에어컨 서비스센터',\n",
       " 'lg전자 에어컨']"
      ]
     },
     "execution_count": 25,
     "metadata": {},
     "output_type": "execute_result"
    }
   ],
   "source": [
    "rkeyword('LG전자')"
   ]
  },
  {
   "cell_type": "code",
   "execution_count": null,
   "id": "ed95546e",
   "metadata": {},
   "outputs": [],
   "source": []
  },
  {
   "cell_type": "code",
   "execution_count": null,
   "id": "c4c6e1b6",
   "metadata": {},
   "outputs": [],
   "source": []
  },
  {
   "cell_type": "code",
   "execution_count": null,
   "id": "92386515",
   "metadata": {},
   "outputs": [],
   "source": []
  },
  {
   "cell_type": "code",
   "execution_count": null,
   "id": "227d4644",
   "metadata": {},
   "outputs": [],
   "source": []
  },
  {
   "cell_type": "code",
   "execution_count": null,
   "id": "ab098d0f",
   "metadata": {},
   "outputs": [],
   "source": []
  },
  {
   "cell_type": "code",
   "execution_count": null,
   "id": "221b373e",
   "metadata": {},
   "outputs": [],
   "source": []
  },
  {
   "cell_type": "code",
   "execution_count": null,
   "id": "eabb572a",
   "metadata": {},
   "outputs": [],
   "source": []
  },
  {
   "cell_type": "code",
   "execution_count": null,
   "id": "f510cefe",
   "metadata": {},
   "outputs": [],
   "source": []
  },
  {
   "cell_type": "code",
   "execution_count": null,
   "id": "274ebc33",
   "metadata": {},
   "outputs": [],
   "source": []
  },
  {
   "cell_type": "code",
   "execution_count": null,
   "id": "28def75b",
   "metadata": {},
   "outputs": [],
   "source": []
  }
 ],
 "metadata": {
  "kernelspec": {
   "display_name": "Python 3 (ipykernel)",
   "language": "python",
   "name": "python3"
  },
  "language_info": {
   "codemirror_mode": {
    "name": "ipython",
    "version": 3
   },
   "file_extension": ".py",
   "mimetype": "text/x-python",
   "name": "python",
   "nbconvert_exporter": "python",
   "pygments_lexer": "ipython3",
   "version": "3.11.3"
  }
 },
 "nbformat": 4,
 "nbformat_minor": 5
}
