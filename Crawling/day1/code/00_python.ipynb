{
 "cells": [
  {
   "cell_type": "code",
   "execution_count": 2,
   "id": "a6fb5d92",
   "metadata": {},
   "outputs": [],
   "source": [
    "# 파이썬 배워야 하는 이유\n",
    "# 컴퓨터를 잘 활용하기 위해서 : 컴퓨터 > CPU, RAM, SSD(HDD) 장치를 이용해서 연산을 빠르게 수행\n",
    "# OS(운영체제:window,osx,android,ios...) > 컴퓨터의 장치를 컨트롤\n",
    "# OS 에서 동작되는 프로그램 > 엑셀, 브라우져, 메신져, 게임 (코드뭉치)\n",
    "# 엑셀 > 마소 개발자들이 작성(구현된기능만사용가능) : 파이썬을 배우면 기능을 구현해서 사용\n",
    "# 컴퓨터를 잘 활용하면 > 업무의 효율이 올라감 > 적게 일하고 많은 수입"
   ]
  },
  {
   "cell_type": "code",
   "execution_count": null,
   "id": "5f97a284",
   "metadata": {},
   "outputs": [],
   "source": [
    "# 파이썬 문법\n",
    "# 프로그래밍 언어 배우는 목적 : CPU, RAM, SSD 사용\n",
    "# 1. 변수선언 : RAM 사용 문법 : 저장공간 만들어 데이터 저장\n",
    "# 2. 데이터타입 : RAM 효율적 사용 문법 : int, float, bool, str, list, tuple, dict\n",
    "# 3. 연산자 : CPU 사용 문법 : 산술, 비교, 논리\n",
    "# 4. 조건문 : 조건에 따라 코드를 실행 문법 : 코드를 효율적으로 작성 실행 문법 : if, elif, else\n",
    "# 5. 반복문 : 특정 코드를 반복적으로 실행 문법 : 코드 유지보수 향상 : while, for, break, continue, range()\n",
    "# 6. 함수 : 중복 코드를 묶어서 코드 작성 실행 문법 : 함수선언(코드작성:user1) > 함수호출(코드실행:user2)\n",
    "# - def, argumnet-parameter, return, docstring\n",
    "# 7. 클래스 : 변수, 함수를 묶어서 코드 작성 실행 문법 : 객체지향 구현한 문법 : class, self, __init__()\n",
    "# 8. 모듈 : 변수, 함수, 클래스를 파일(.py)로 묶어서 코드 작성 실행 문법 :  import, from, as\n",
    "# 9. 패키지 : 여러개의 모듈 파일을 디렉토리로 구분해서 코드 작성 실행 문법 : 버전정보\n",
    "# - 내가 작성한 코드를 다른사람에게 전달하거나 다른사람이 작성한 코드를 내가 전달받을때 유용\n",
    "# 10. 입출력 : IO : input output : SSD(HDD) 사용 문법 : pickle"
   ]
  },
  {
   "cell_type": "code",
   "execution_count": 3,
   "id": "4af3c453",
   "metadata": {},
   "outputs": [],
   "source": [
    "# 1. 변수선언 : 식별자(문법,컨벤션(camelCase(X),snake_case(O):PEP8))\n",
    "\n",
    "# 식별자 1개, 데이터 1개\n",
    "data1 = 1\n",
    "# 식별자 n개, 데이터 n개\n",
    "data2, data3 = 2, 3\n",
    "# 식별자 n개, 데이터 1개\n",
    "data4 = data5 = 4\n",
    "\n",
    "# 식별자 1개, 데이터 n개 : collection data type"
   ]
  },
  {
   "cell_type": "code",
   "execution_count": 4,
   "id": "fc75b0ad",
   "metadata": {},
   "outputs": [
    {
     "name": "stdout",
     "output_type": "stream",
     "text": [
      "Variable   Type    Data/Info\n",
      "----------------------------\n",
      "data1      int     1\n",
      "data2      int     2\n",
      "data3      int     3\n",
      "data4      int     4\n",
      "data5      int     4\n"
     ]
    }
   ],
   "source": [
    "%whos"
   ]
  },
  {
   "cell_type": "code",
   "execution_count": 5,
   "id": "69c28990",
   "metadata": {},
   "outputs": [
    {
     "name": "stdout",
     "output_type": "stream",
     "text": [
      "Once deleted, variables cannot be recovered. Proceed (y/[n])? y\n"
     ]
    }
   ],
   "source": [
    "%reset"
   ]
  },
  {
   "cell_type": "code",
   "execution_count": 6,
   "id": "ccd4e161",
   "metadata": {},
   "outputs": [
    {
     "name": "stdout",
     "output_type": "stream",
     "text": [
      "Interactive namespace is empty.\n"
     ]
    }
   ],
   "source": [
    "%whos"
   ]
  },
  {
   "cell_type": "code",
   "execution_count": 7,
   "id": "48010f03",
   "metadata": {},
   "outputs": [],
   "source": [
    "# 2. 데이터타입 : 기본(int, float, bool, str), 컬렉션(list, tuple, dict)\n",
    "# 동적타이핑 : 변수선언시 자동으로 데이터타입 설정하는 기능\n",
    "# int d1 = -3 (컴파일러언어)\n",
    "d1, d2, d3, d4 = -3, 1.2, True, 'py'"
   ]
  },
  {
   "cell_type": "code",
   "execution_count": 8,
   "id": "09a2f177",
   "metadata": {},
   "outputs": [
    {
     "name": "stdout",
     "output_type": "stream",
     "text": [
      "Variable   Type     Data/Info\n",
      "-----------------------------\n",
      "d1         int      -3\n",
      "d2         float    1.2\n",
      "d3         bool     True\n",
      "d4         str      py\n"
     ]
    }
   ],
   "source": [
    "%whos"
   ]
  },
  {
   "cell_type": "code",
   "execution_count": 29,
   "id": "6a92256b",
   "metadata": {},
   "outputs": [
    {
     "name": "stdout",
     "output_type": "stream",
     "text": [
      "[1, 2, 'A', 'B'] A [1, 2] [2, 'A'] [1, 2, 'A'] ['A', 'B'] [1, 'A'] A\n",
      "[1, 2, 'C', 'B']\n",
      "[1, 2, 'B']\n"
     ]
    }
   ],
   "source": [
    "# 컬렉션(list, tuple, dict) : 식별자 1개, 데이터 n개\n",
    "# 데이터를 다룰때 개념 : CRUD : create, read, update, delete\n",
    "# create : [], (), {k:v}\n",
    "d5, d6, d7 = [1, 2, 'A', 'B'], (1, 2, 'A', 'B'), {'A': [1, 2], 2: 'B'}\n",
    "# read : masking[] : data[idx], [key], [start:end], [start:end:stride]\n",
    "print(d5, d5[2], d7['A'], d5[1:3], d5[:3], d5[2:], d5[::2], d5[-2])\n",
    "# update : 데이터선택 = 수정할데이터\n",
    "d5[2] = 'C'\n",
    "print(d5)\n",
    "# delete : del 데이터선택\n",
    "del d5[2]\n",
    "print(d5)"
   ]
  },
  {
   "cell_type": "code",
   "execution_count": 10,
   "id": "f7356030",
   "metadata": {},
   "outputs": [
    {
     "name": "stdout",
     "output_type": "stream",
     "text": [
      "Variable   Type     Data/Info\n",
      "-----------------------------\n",
      "d1         int      -3\n",
      "d2         float    1.2\n",
      "d3         bool     True\n",
      "d4         str      py\n",
      "d5         list     n=4\n",
      "d6         tuple    n=4\n",
      "d7         dict     n=2\n"
     ]
    }
   ],
   "source": [
    "%whos"
   ]
  },
  {
   "cell_type": "code",
   "execution_count": 30,
   "id": "bbd5343c",
   "metadata": {},
   "outputs": [
    {
     "name": "stdout",
     "output_type": "stream",
     "text": [
      "Once deleted, variables cannot be recovered. Proceed (y/[n])? y\n"
     ]
    }
   ],
   "source": [
    "%reset"
   ]
  },
  {
   "cell_type": "code",
   "execution_count": 36,
   "id": "2496e5ef",
   "metadata": {},
   "outputs": [
    {
     "name": "stdout",
     "output_type": "stream",
     "text": [
      "[1, 2, 3] (1, 2, 3)\n",
      "<class 'list'> <class 'tuple'>\n",
      "1640798746176 1640798167616\n",
      "88 64\n"
     ]
    }
   ],
   "source": [
    "# 변수 속성값 함수 : print(), type(), id(), sys.getsizeof()\n",
    "import sys\n",
    "d1, d2 = [1, 2, 3], (1, 2, 3)\n",
    "print(d1, d2)\n",
    "print(type(d1), type(d2))\n",
    "print(id(d1), id(d2)) # 깊은복사, 얕은복사\n",
    "print(sys.getsizeof(d1), sys.getsizeof(d2)) # 튜플사용이유 : 같은 데이터 저장할때 더 적은 RAM 사용"
   ]
  },
  {
   "cell_type": "code",
   "execution_count": 37,
   "id": "de9a7d7d",
   "metadata": {},
   "outputs": [],
   "source": [
    "# 3. 연산자\n",
    "# 산술 : 데이터 + 데이터 = 데이터 : +, - < *, /, //, % < **\n",
    "# 비교 : 데이터 + 데이터 = 논리값 : ==, !=, >, <, >=, <= : 조건 1개\n",
    "# 논리 : 논리값(비교:조건1개) + 논리값(비교:조건1개) = 논리값 : not, and(T) > or(F) : 조건 2개 이상\n",
    "# - and : 두 조건 모두 만족 True, or : 둘중에 하나의 조건 만족 True"
   ]
  },
  {
   "cell_type": "code",
   "execution_count": 40,
   "id": "fc09fca6",
   "metadata": {},
   "outputs": [
    {
     "name": "stdout",
     "output_type": "stream",
     "text": [
      "py1\n",
      "py1\n",
      "py1\n"
     ]
    }
   ],
   "source": [
    "# 4. 조건문 : if, elif, else\n",
    "# 5. 반복문 : while, for, break, continue, range()\n",
    "print('py1')\n",
    "print('py1')\n",
    "print('py1')"
   ]
  },
  {
   "cell_type": "code",
   "execution_count": 42,
   "id": "6a09e438",
   "metadata": {},
   "outputs": [
    {
     "name": "stdout",
     "output_type": "stream",
     "text": [
      "py1\n",
      "py1\n",
      "py1\n"
     ]
    }
   ],
   "source": [
    "count = 3\n",
    "while count:\n",
    "    count -= 1\n",
    "    print('py1')"
   ]
  },
  {
   "cell_type": "code",
   "execution_count": 44,
   "id": "474a8cd9",
   "metadata": {},
   "outputs": [
    {
     "name": "stdout",
     "output_type": "stream",
     "text": [
      "py\n",
      "py\n",
      "py\n"
     ]
    }
   ],
   "source": [
    "# _ : 식별자가 필요한데 사용하지는 않는 경우\n",
    "for _ in range(3):\n",
    "    print('py')"
   ]
  },
  {
   "cell_type": "code",
   "execution_count": 45,
   "id": "1d65fe3d",
   "metadata": {},
   "outputs": [
    {
     "name": "stdout",
     "output_type": "stream",
     "text": [
      "Once deleted, variables cannot be recovered. Proceed (y/[n])? y\n"
     ]
    }
   ],
   "source": [
    "%reset"
   ]
  },
  {
   "cell_type": "code",
   "execution_count": 47,
   "id": "d8e1bf12",
   "metadata": {},
   "outputs": [],
   "source": [
    "# 6. 함수 : 코드를 효율적으로 작성 : 중복코드제거\n",
    "# 사용법 : 함수선언(코드작성) > 함수호출(코드실행)"
   ]
  },
  {
   "cell_type": "code",
   "execution_count": 54,
   "id": "796f97e6",
   "metadata": {},
   "outputs": [
    {
     "name": "stdout",
     "output_type": "stream",
     "text": [
      "-1\n",
      "py\n",
      "-1\n"
     ]
    }
   ],
   "source": [
    "print(1 - 2)\n",
    "print('py')\n",
    "print(1 - 2)"
   ]
  },
  {
   "cell_type": "code",
   "execution_count": 59,
   "id": "fd21a01a",
   "metadata": {},
   "outputs": [],
   "source": [
    "# 함수선언(코드작성) : function 데이터타입 : 코드가 들어있는 데이터타입의 변수선언\n",
    "def plus():\n",
    "    print(1 + 2)"
   ]
  },
  {
   "cell_type": "code",
   "execution_count": 60,
   "id": "0c962af0",
   "metadata": {},
   "outputs": [
    {
     "name": "stdout",
     "output_type": "stream",
     "text": [
      "Variable   Type        Data/Info\n",
      "--------------------------------\n",
      "plus       function    <function plus at 0x0000017E07365BC0>\n"
     ]
    }
   ],
   "source": [
    "%whos"
   ]
  },
  {
   "cell_type": "code",
   "execution_count": 61,
   "id": "4079b192",
   "metadata": {},
   "outputs": [
    {
     "name": "stdout",
     "output_type": "stream",
     "text": [
      "3\n"
     ]
    }
   ],
   "source": [
    "# 함수호출(코드실행)\n",
    "plus()"
   ]
  },
  {
   "cell_type": "code",
   "execution_count": 62,
   "id": "7fbb2565",
   "metadata": {},
   "outputs": [
    {
     "name": "stdout",
     "output_type": "stream",
     "text": [
      "3\n",
      "py\n",
      "3\n"
     ]
    }
   ],
   "source": [
    "plus()\n",
    "print('py')\n",
    "plus()"
   ]
  },
  {
   "cell_type": "code",
   "execution_count": 81,
   "id": "e8ac2da7",
   "metadata": {},
   "outputs": [
    {
     "name": "stdout",
     "output_type": "stream",
     "text": [
      "71\n",
      "result 71\n"
     ]
    }
   ],
   "source": [
    "# parameter-argument : 함수를 호출하는 코드에서 함수를 선언하는 코드로 데이터 전달\n",
    "# default parameter, keyword argument\n",
    "# return : 함수 실행 결과를 변수에 저장, 출력\n",
    "def plus(n1, n2=20, n3=30):\n",
    "    print(n1 + n2 + n3)\n",
    "    return n1 + n2 + n3\n",
    "    \n",
    "result = plus(1, n3=50)\n",
    "print('result', result)"
   ]
  },
  {
   "cell_type": "code",
   "execution_count": 67,
   "id": "46f205c1",
   "metadata": {},
   "outputs": [
    {
     "name": "stdout",
     "output_type": "stream",
     "text": [
      "3\n",
      "py\n",
      "4\n"
     ]
    }
   ],
   "source": [
    "plus(1, 2) # 1 + 2\n",
    "print('py')\n",
    "plus(1, 3) # 1 + 3"
   ]
  },
  {
   "cell_type": "code",
   "execution_count": 85,
   "id": "1b9d6617",
   "metadata": {},
   "outputs": [
    {
     "name": "stdout",
     "output_type": "stream",
     "text": [
      "Help on built-in function print in module builtins:\n",
      "\n",
      "print(*args, sep=' ', end='\\n', file=None, flush=False)\n",
      "    Prints the values to a stream, or to sys.stdout by default.\n",
      "    \n",
      "    sep\n",
      "      string inserted between values, default a space.\n",
      "    end\n",
      "      string appended after the last value, default a newline.\n",
      "    file\n",
      "      a file-like object (stream); defaults to the current sys.stdout.\n",
      "    flush\n",
      "      whether to forcibly flush the stream.\n",
      "\n"
     ]
    }
   ],
   "source": [
    "# docstring : 함수의 설명글 : help()\n",
    "help(print)"
   ]
  },
  {
   "cell_type": "code",
   "execution_count": 86,
   "id": "597848fb",
   "metadata": {},
   "outputs": [
    {
     "name": "stdout",
     "output_type": "stream",
     "text": [
      "A,B:C\n"
     ]
    }
   ],
   "source": [
    "print('A', 'B', sep=',', end=':')\n",
    "print('C')"
   ]
  },
  {
   "cell_type": "code",
   "execution_count": 87,
   "id": "0ca4a412",
   "metadata": {},
   "outputs": [],
   "source": [
    "# 7. class \n",
    "# - 변수, 함수 묶어서 코드 작성 실행\n",
    "# - 객체지향 구현 : 실제세계를 모델링하여 프로그램을 개발하는 방법론 : 협업이 좋아짐\n",
    "# 클래스선언(코드작성) > 객체생성(메모리사용) > 메서드호출(코드실행)\n",
    "# 클래스선언(설계도작성) > 객체생성(제품생산) > 메서드호출(제품사용)\n",
    "# 클래스 식별자 컨벤션 : PascalCase(O), snake_case(X) : PEP8\n",
    "# class, self, __init__(), 클래스는 사용자정의 데이터타입이다."
   ]
  },
  {
   "cell_type": "code",
   "execution_count": 91,
   "id": "83419649",
   "metadata": {},
   "outputs": [],
   "source": [
    "# 클래스선언(코드작성) \n",
    "# 스타크래프트 : Marine : health, ap, attack(target)\n",
    "class Marine:\n",
    "    health, ap = 40, 5\n",
    "    def attack(self, target):\n",
    "        target.health -= self.ap"
   ]
  },
  {
   "cell_type": "code",
   "execution_count": 92,
   "id": "29f03e6e",
   "metadata": {},
   "outputs": [
    {
     "data": {
      "text/plain": [
       "(40, 5, 40, 5)"
      ]
     },
     "execution_count": 92,
     "metadata": {},
     "output_type": "execute_result"
    }
   ],
   "source": [
    "# 객체생성(메모리사용) # DataFrame()\n",
    "m1, m2 = Marine(), Marine()\n",
    "m1.health, m1.ap, m2.health, m2.ap"
   ]
  },
  {
   "cell_type": "code",
   "execution_count": 94,
   "id": "9febc980",
   "metadata": {},
   "outputs": [
    {
     "data": {
      "text/plain": [
       "['ap', 'attack', 'health']"
      ]
     },
     "execution_count": 94,
     "metadata": {},
     "output_type": "execute_result"
    }
   ],
   "source": [
    "# dir() : 객체에 저장되어 있는 변수(함수포함) 출력\n",
    "dir(m1)[-3:]"
   ]
  },
  {
   "cell_type": "code",
   "execution_count": 96,
   "id": "c8800ad8",
   "metadata": {},
   "outputs": [
    {
     "data": {
      "text/plain": [
       "(40, 5, 60, 7)"
      ]
     },
     "execution_count": 96,
     "metadata": {},
     "output_type": "execute_result"
    }
   ],
   "source": [
    "# 데이터수정 : 데이터선택 = 수정할데이터\n",
    "m2.health, m2.ap = 60, 7\n",
    "m1.health, m1.ap, m2.health, m2.ap"
   ]
  },
  {
   "cell_type": "code",
   "execution_count": 97,
   "id": "edd00a01",
   "metadata": {},
   "outputs": [
    {
     "data": {
      "text/plain": [
       "(33, 5, 60, 7)"
      ]
     },
     "execution_count": 97,
     "metadata": {},
     "output_type": "execute_result"
    }
   ],
   "source": [
    "# 메서드호출(코드실행)\n",
    "m2.attack(m1)\n",
    "m1.health, m1.ap, m2.health, m2.ap"
   ]
  },
  {
   "cell_type": "code",
   "execution_count": null,
   "id": "8de0c24f",
   "metadata": {},
   "outputs": [],
   "source": [
    "# self : 객체자신\n",
    "# 메서드의 종류 : instance(self), class(cls), static()\n",
    "# Marine.attack(self, target) : target.health -= self.ap\n",
    "# m1.attack(m2) : self == m1, target == m2 :  target.health -= self.ap > m2.health -= m1.ap"
   ]
  },
  {
   "cell_type": "code",
   "execution_count": 102,
   "id": "2ce9961c",
   "metadata": {},
   "outputs": [],
   "source": [
    "# 생성자 메서드 : 스페셜 메서드 중 하나(특별한 기능을 하는 앞뒤로 __가 있는 메서드)\n",
    "# __init__() : 객체생성할때 실행되는 메서드"
   ]
  },
  {
   "cell_type": "code",
   "execution_count": 138,
   "id": "b5e70954",
   "metadata": {},
   "outputs": [],
   "source": [
    "# 클래스선언(코드작성) \n",
    "class Marine:\n",
    "    \n",
    "    # health, ap = 40, 5\n",
    "    # 생성자 메서드 : 객체 생성시 변수의 초기값을 검사 및 설정\n",
    "    def __init__(self, health, ap=5):\n",
    "        self.health, self.ap = health, ap\n",
    "        \n",
    "    def attack(self, target):\n",
    "        target.health -= self.ap"
   ]
  },
  {
   "cell_type": "code",
   "execution_count": 120,
   "id": "c17589b3",
   "metadata": {},
   "outputs": [],
   "source": [
    "# 객체생성(메모리사용)\n",
    "m1, m2 = Marine(40, 5), Marine(60)"
   ]
  },
  {
   "cell_type": "code",
   "execution_count": 121,
   "id": "4fe6da0d",
   "metadata": {},
   "outputs": [],
   "source": [
    "# 메서드호출(코드실행)\n",
    "m2.attack(m1)"
   ]
  },
  {
   "cell_type": "code",
   "execution_count": 123,
   "id": "d2f6ad60",
   "metadata": {},
   "outputs": [
    {
     "data": {
      "text/html": [
       "<div>\n",
       "<style scoped>\n",
       "    .dataframe tbody tr th:only-of-type {\n",
       "        vertical-align: middle;\n",
       "    }\n",
       "\n",
       "    .dataframe tbody tr th {\n",
       "        vertical-align: top;\n",
       "    }\n",
       "\n",
       "    .dataframe thead th {\n",
       "        text-align: right;\n",
       "    }\n",
       "</style>\n",
       "<table border=\"1\" class=\"dataframe\">\n",
       "  <thead>\n",
       "    <tr style=\"text-align: right;\">\n",
       "      <th></th>\n",
       "      <th>kospi</th>\n",
       "      <th>usd</th>\n",
       "    </tr>\n",
       "  </thead>\n",
       "  <tbody>\n",
       "    <tr>\n",
       "      <th>0</th>\n",
       "      <td>3</td>\n",
       "      <td>9</td>\n",
       "    </tr>\n",
       "    <tr>\n",
       "      <th>1</th>\n",
       "      <td>4</td>\n",
       "      <td>2</td>\n",
       "    </tr>\n",
       "    <tr>\n",
       "      <th>2</th>\n",
       "      <td>5</td>\n",
       "      <td>1</td>\n",
       "    </tr>\n",
       "  </tbody>\n",
       "</table>\n",
       "</div>"
      ],
      "text/plain": [
       "   kospi  usd\n",
       "0      3    9\n",
       "1      4    2\n",
       "2      5    1"
      ]
     },
     "execution_count": 123,
     "metadata": {},
     "output_type": "execute_result"
    }
   ],
   "source": [
    "# 데이터 프레임의 활용\n",
    "import pandas as pd # 다른 사람이 만든 클래스 코드를 가져옴 : 클래스선언(코드작성)\n",
    "df = pd.DataFrame({'kospi': [3, 4, 5], 'usd': [9, 2, 1]}) # 객체생성(메모리사용)\n",
    "df"
   ]
  },
  {
   "cell_type": "code",
   "execution_count": 128,
   "id": "ba72513f",
   "metadata": {},
   "outputs": [
    {
     "data": {
      "text/html": [
       "<div>\n",
       "<style scoped>\n",
       "    .dataframe tbody tr th:only-of-type {\n",
       "        vertical-align: middle;\n",
       "    }\n",
       "\n",
       "    .dataframe tbody tr th {\n",
       "        vertical-align: top;\n",
       "    }\n",
       "\n",
       "    .dataframe thead th {\n",
       "        text-align: right;\n",
       "    }\n",
       "</style>\n",
       "<table border=\"1\" class=\"dataframe\">\n",
       "  <thead>\n",
       "    <tr style=\"text-align: right;\">\n",
       "      <th></th>\n",
       "      <th>kospi</th>\n",
       "      <th>usd</th>\n",
       "    </tr>\n",
       "  </thead>\n",
       "  <tbody>\n",
       "    <tr>\n",
       "      <th>kospi</th>\n",
       "      <td>1.000000</td>\n",
       "      <td>-0.917663</td>\n",
       "    </tr>\n",
       "    <tr>\n",
       "      <th>usd</th>\n",
       "      <td>-0.917663</td>\n",
       "      <td>1.000000</td>\n",
       "    </tr>\n",
       "  </tbody>\n",
       "</table>\n",
       "</div>"
      ],
      "text/plain": [
       "          kospi       usd\n",
       "kospi  1.000000 -0.917663\n",
       "usd   -0.917663  1.000000"
      ]
     },
     "execution_count": 128,
     "metadata": {},
     "output_type": "execute_result"
    }
   ],
   "source": [
    "# dir(df)\n",
    "# help(df.corr)\n",
    "df.corr()"
   ]
  },
  {
   "cell_type": "code",
   "execution_count": 134,
   "id": "644aeee2",
   "metadata": {},
   "outputs": [
    {
     "data": {
      "text/plain": [
       "['translate', 'upper', 'zfill']"
      ]
     },
     "execution_count": 134,
     "metadata": {},
     "output_type": "execute_result"
    }
   ],
   "source": [
    "data = 'python' # data : str 클래스로 만들어진 객체\n",
    "# type(data)\n",
    "# data.upper()\n",
    "dir(data)[-3:]"
   ]
  },
  {
   "cell_type": "code",
   "execution_count": 135,
   "id": "50386311",
   "metadata": {},
   "outputs": [
    {
     "name": "stdout",
     "output_type": "stream",
     "text": [
      "Help on built-in function upper:\n",
      "\n",
      "upper() method of builtins.str instance\n",
      "    Return a copy of the string converted to uppercase.\n",
      "\n"
     ]
    }
   ],
   "source": [
    "help(data.upper)"
   ]
  },
  {
   "cell_type": "code",
   "execution_count": 136,
   "id": "23bd6867",
   "metadata": {},
   "outputs": [
    {
     "data": {
      "text/plain": [
       "'PYTHON'"
      ]
     },
     "execution_count": 136,
     "metadata": {},
     "output_type": "execute_result"
    }
   ],
   "source": [
    "data.upper()"
   ]
  },
  {
   "cell_type": "code",
   "execution_count": 141,
   "id": "abf0fdcd",
   "metadata": {},
   "outputs": [
    {
     "data": {
      "text/plain": [
       "__main__.Marine"
      ]
     },
     "execution_count": 141,
     "metadata": {},
     "output_type": "execute_result"
    }
   ],
   "source": [
    "# 클래스는 사용자정의 데이터타입이다.\n",
    "# m1 객체의 클래스 : Marine\n",
    "# m1 객체의 데이터타입 : Marine\n",
    "# 클래스는 데이터타입이다.\n",
    "# Marine 클래스는 우리가 만듦 : 사용자정의\n",
    "# 클래스는 사용자정의 데이터타입이다.\n",
    "m1 = Marine(40)\n",
    "type(m1)"
   ]
  },
  {
   "cell_type": "code",
   "execution_count": 142,
   "id": "8854d9a5",
   "metadata": {},
   "outputs": [
    {
     "data": {
      "text/plain": [
       "(str, list)"
      ]
     },
     "execution_count": 142,
     "metadata": {},
     "output_type": "execute_result"
    }
   ],
   "source": [
    "# d1 객체의 클래스 : str\n",
    "# d1 객체의 데이터타입 : str\n",
    "# d1 객체에서 사용가능한 변수와 메서드는 str 클래스에 정의\n",
    "d1 = 'python'\n",
    "# d2 객체의 클래스 : list\n",
    "# d2 객체의 데이터타입 : list\n",
    "# d2 객체에서 사용가능한 변수와 메서드는 list 클래스에 정의\n",
    "d2 = [1, 3, 2]\n",
    "# > 데이터 타입에 따라서 변수(객체)에서 사용가능한 변수, 메서드가 다르다.\n",
    "type(d1), type(d2)"
   ]
  }
 ],
 "metadata": {
  "kernelspec": {
   "display_name": "Python 3 (ipykernel)",
   "language": "python",
   "name": "python3"
  },
  "language_info": {
   "codemirror_mode": {
    "name": "ipython",
    "version": 3
   },
   "file_extension": ".py",
   "mimetype": "text/x-python",
   "name": "python",
   "nbconvert_exporter": "python",
   "pygments_lexer": "ipython3",
   "version": "3.11.3"
  }
 },
 "nbformat": 4,
 "nbformat_minor": 5
}
